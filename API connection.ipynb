{
 "cells": [
  {
   "cell_type": "code",
   "execution_count": 2,
   "metadata": {},
   "outputs": [],
   "source": [
    "import pandas as pd\n",
    "import requests\n",
    "import json"
   ]
  },
  {
   "cell_type": "code",
   "execution_count": 18,
   "metadata": {},
   "outputs": [
    {
     "name": "stdout",
     "output_type": "stream",
     "text": [
      "Enter message:if i can't let it go out of my mind\n"
     ]
    }
   ],
   "source": [
    "# Request input from user\n",
    "message=str.lower(input('Enter message:'))"
   ]
  },
  {
   "cell_type": "code",
   "execution_count": 21,
   "metadata": {},
   "outputs": [],
   "source": [
    "encoded_key='NGM1MzdmYzQ2OTdjNDUwOGIzMzFhY2E4NzlkNWU1ZjI6NzU4ZjA2ZjhkOWU5NGM2MGFmZGRkNGFhN2MwMjkwOGY='\n",
    "def client_credentials(encoded_key):\n",
    "    headers = {\n",
    "    'Authorization': 'Basic '+encoded_key,\n",
    "    }\n",
    "\n",
    "    data = {\n",
    "      'grant_type': 'client_credentials'\n",
    "    }\n",
    "\n",
    "    response = requests.post('https://accounts.spotify.com/api/token', headers=headers, data=data)\n",
    "#     print(response.json())\n",
    "#     {'access_token': 'BQCVHHb7qAYICBc8He7AJi-SfHKWHZZQWSJ0fdetTyXFISQZR-iTIt1Y2-33XYk-LqKT_0YqrJ4TCnlVZIQ', \n",
    "#      'token_type': 'Bearer', 'expires_in': 3600, 'scope': ''}\n",
    "    try:\n",
    "        return response.json()['access_token']\n",
    "    except:\n",
    "        print(response.json())\n",
    "        return response.json()\n",
    "    \n",
    "\n",
    "access_token=client_credentials(encoded_key)"
   ]
  },
  {
   "cell_type": "code",
   "execution_count": null,
   "metadata": {},
   "outputs": [],
   "source": []
  },
  {
   "cell_type": "code",
   "execution_count": 5,
   "metadata": {},
   "outputs": [],
   "source": [
    "offset=0\n",
    "limit=50"
   ]
  },
  {
   "cell_type": "code",
   "execution_count": 16,
   "metadata": {},
   "outputs": [],
   "source": [
    "def search_exact_track(q,n,k):\n",
    "    # grab all 50 searches, see if any match exactly\n",
    "    # if not, re-iterate next 50 searches\n",
    "    \n",
    "    print('Offset: '+str(n))\n",
    "    if offset/limit>7:\n",
    "        print('Too many iterations to find the track')\n",
    "        return None\n",
    "    headers = {\n",
    "        'Accept': 'application/json',\n",
    "        'Content-Type': 'application/json',\n",
    "        'Authorization': 'Bearer '+access_token,\n",
    "    }\n",
    "\n",
    "    params = (\n",
    "        ('q', q),\n",
    "        ('type', 'track'),\n",
    "        ('market', 'US'),\n",
    "        ('offset',n),\n",
    "        ('limit',k)\n",
    "    )\n",
    "    \n",
    "    response = requests.get('https://api.spotify.com/v1/search', headers=headers, params=params)\n",
    "    tracks=response.json()\n",
    "    if tracks['tracks']['total']==0:\n",
    "        print('No matching tracks for: '+q)\n",
    "        return None\n",
    "    track_dict={str.lower(x['name']):x['external_urls']['spotify'] for x in list(tracks['tracks']['items'])}\n",
    "    if q in track_dict:\n",
    "        print('Found track: '+q)\n",
    "        return(track_dict[q])\n",
    "    else:\n",
    "        print('Must reiterate with new offset: '+str(n+k))\n",
    "        return(search_tracks(q,n+k,k))\n",
    "\n"
   ]
  },
  {
   "cell_type": "code",
   "execution_count": 17,
   "metadata": {},
   "outputs": [
    {
     "name": "stdout",
     "output_type": "stream",
     "text": [
      "Offset: 0\n",
      "Must reiterate with new offset: 50\n",
      "Offset: 50\n",
      "Must reiterate with new offset: 100\n",
      "Offset: 100\n",
      "Found track: hi\n"
     ]
    },
    {
     "data": {
      "text/plain": [
       "'https://open.spotify.com/track/0GelEhEgigmyK5jGXbPhAg'"
      ]
     },
     "execution_count": 17,
     "metadata": {},
     "output_type": "execute_result"
    }
   ],
   "source": [
    "search_exact_track(message, offset, limit)"
   ]
  },
  {
   "cell_type": "code",
   "execution_count": 20,
   "metadata": {},
   "outputs": [
    {
     "data": {
      "text/plain": [
       "['if', 'i', \"can't\", 'let', 'it', 'go', 'out', 'of', 'my', 'mind']"
      ]
     },
     "execution_count": 20,
     "metadata": {},
     "output_type": "execute_result"
    }
   ],
   "source": [
    "message.split(\" \")"
   ]
  },
  {
   "cell_type": "code",
   "execution_count": null,
   "metadata": {},
   "outputs": [],
   "source": []
  },
  {
   "cell_type": "code",
   "execution_count": null,
   "metadata": {},
   "outputs": [],
   "source": []
  }
 ],
 "metadata": {
  "kernelspec": {
   "display_name": "Python 3",
   "language": "python",
   "name": "python3"
  },
  "language_info": {
   "codemirror_mode": {
    "name": "ipython",
    "version": 3
   },
   "file_extension": ".py",
   "mimetype": "text/x-python",
   "name": "python",
   "nbconvert_exporter": "python",
   "pygments_lexer": "ipython3",
   "version": "3.6.4"
  }
 },
 "nbformat": 4,
 "nbformat_minor": 2
}
