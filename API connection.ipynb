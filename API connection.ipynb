{
 "cells": [
  {
   "cell_type": "code",
   "execution_count": 12,
   "metadata": {},
   "outputs": [],
   "source": [
    "import pandas as pd\n",
    "import requests\n",
    "import json"
   ]
  },
  {
   "cell_type": "code",
   "execution_count": 13,
   "metadata": {},
   "outputs": [
    {
     "name": "stdout",
     "output_type": "stream",
     "text": [
      "Enter message:if i can't let it go out of my mind\n"
     ]
    }
   ],
   "source": [
    "# Request input from user\n",
    "message=str.lower(input('Enter message:'))"
   ]
  },
  {
   "cell_type": "code",
   "execution_count": 14,
   "metadata": {},
   "outputs": [],
   "source": [
    "encoded_key='NGM1MzdmYzQ2OTdjNDUwOGIzMzFhY2E4NzlkNWU1ZjI6NzU4ZjA2ZjhkOWU5NGM2MGFmZGRkNGFhN2MwMjkwOGY='\n",
    "def client_credentials(encoded_key):\n",
    "    headers = {\n",
    "    'Authorization': 'Basic '+encoded_key,\n",
    "    }\n",
    "\n",
    "    data = {\n",
    "      'grant_type': 'client_credentials'\n",
    "    }\n",
    "\n",
    "    response = requests.post('https://accounts.spotify.com/api/token', headers=headers, data=data)\n",
    "#     print(response.json())\n",
    "#     {'access_token': 'BQCVHHb7qAYICBc8He7AJi-SfHKWHZZQWSJ0fdetTyXFISQZR-iTIt1Y2-33XYk-LqKT_0YqrJ4TCnlVZIQ', \n",
    "#      'token_type': 'Bearer', 'expires_in': 3600, 'scope': ''}\n",
    "    try:\n",
    "        return response.json()['access_token']\n",
    "    except:\n",
    "        print(response.json())\n",
    "        return response.json()\n",
    "    \n",
    "\n",
    "access_token=client_credentials(encoded_key)"
   ]
  },
  {
   "cell_type": "code",
   "execution_count": null,
   "metadata": {},
   "outputs": [],
   "source": []
  },
  {
   "cell_type": "code",
   "execution_count": null,
   "metadata": {},
   "outputs": [],
   "source": [
    "# offset=0\n",
    "# limit=50"
   ]
  },
  {
   "cell_type": "code",
   "execution_count": 15,
   "metadata": {},
   "outputs": [],
   "source": [
    "def search_exact_track(q,n,k):\n",
    "    # grab all 50 searches, see if any match exactly\n",
    "    # if not, re-iterate next 50 searches\n",
    "    \n",
    "#     print('Offset: '+str(n))\n",
    "    print(n/k)\n",
    "    if (n/k)>7:\n",
    "        print('Too many iterations to find the track')\n",
    "        return None\n",
    "    headers = {\n",
    "        'Accept': 'application/json',\n",
    "        'Content-Type': 'application/json',\n",
    "        'Authorization': 'Bearer '+access_token,\n",
    "    }\n",
    "\n",
    "    params = (\n",
    "        ('q', q),\n",
    "        ('type', 'track'),\n",
    "        ('market', 'US'),\n",
    "        ('offset',n),\n",
    "        ('limit',k)\n",
    "    )\n",
    "    \n",
    "    response = requests.get('https://api.spotify.com/v1/search', headers=headers, params=params)\n",
    "    tracks=response.json()\n",
    "    total_n=tracks['tracks']['total']\n",
    "#     if tracks['tracks']['total']==0:\n",
    "#         print('No matching tracks for: '+q)\n",
    "#         return None\n",
    "    track_dict={str.lower(x['name']):x['external_urls']['spotify'] for x in list(tracks['tracks']['items'])}\n",
    "    if q in track_dict:\n",
    "        print('Found track: '+q)\n",
    "        return(track_dict[q])\n",
    "    else:\n",
    "        if n+k<total_n:\n",
    "            print('Must reiterate with new offset: '+str(n+k))\n",
    "            print(n)\n",
    "            print(k)\n",
    "            return(search_exact_track(q,n+k,k))\n",
    "        else:\n",
    "            print('No matching tracks for: '+q)\n",
    "            return None\n",
    "\n"
   ]
  },
  {
   "cell_type": "code",
   "execution_count": null,
   "metadata": {},
   "outputs": [],
   "source": []
  },
  {
   "cell_type": "code",
   "execution_count": null,
   "metadata": {},
   "outputs": [],
   "source": []
  },
  {
   "cell_type": "code",
   "execution_count": null,
   "metadata": {},
   "outputs": [],
   "source": [
    "# Try full message\n",
    "# Try chunking\n",
    "# Try every individual word and build up on it"
   ]
  },
  {
   "cell_type": "code",
   "execution_count": null,
   "metadata": {},
   "outputs": [],
   "source": [
    "# [(word,position) for (word,position) in zip(word_array,range(len(word_array)))]"
   ]
  },
  {
   "cell_type": "code",
   "execution_count": 21,
   "metadata": {},
   "outputs": [],
   "source": [
    "word_array=message.split(\" \")\n",
    "stop_pos=len(word_array)\n",
    "def left_chunker(word_array, stop_pos):\n",
    "    if stop_pos==0:\n",
    "        print('Empty array')\n",
    "        return None\n",
    "    print('stop pos: '+str(stop_pos))\n",
    "    print('word array length: '+str(len(word_array)))\n",
    "    message=\" \".join(word_array[:stop_pos])\n",
    "    print('Searching for: '+message)\n",
    "    track=search_exact_track(message, 0, 50)\n",
    "    if track is None:\n",
    "        print('Failed. Now will try: '+\" \".join(word_array[:stop_pos-1]))\n",
    "        return left_chunker(word_array,stop_pos-1)\n",
    "    else:\n",
    "#         Add to list\n",
    "        playlist.append([track, message,word_array, stop_pos])\n",
    "        word_array=word_array[stop_pos:]\n",
    "        return left_chunker(word_array,len(word_array))\n",
    "#         word_array=word_array[stop_pos+1:]\n",
    "#         track_chunker(word_array,len(word_array))\n",
    "        \n",
    "# def track_maker():\n",
    "#     (phrase,stop_pos)=left_chunker(word_array,stop_pos)\n",
    "#     word_array=word_array[stop_pos+1]\n",
    "    \n"
   ]
  },
  {
   "cell_type": "code",
   "execution_count": 22,
   "metadata": {},
   "outputs": [
    {
     "name": "stdout",
     "output_type": "stream",
     "text": [
      "stop pos: 10\n",
      "word array length: 10\n",
      "Searching for: if i can't let it go out of my mind\n",
      "0.0\n",
      "No matching tracks for: if i can't let it go out of my mind\n",
      "Failed. Now will try: if i can't let it go out of my\n",
      "stop pos: 9\n",
      "word array length: 10\n",
      "Searching for: if i can't let it go out of my\n",
      "0.0\n",
      "No matching tracks for: if i can't let it go out of my\n",
      "Failed. Now will try: if i can't let it go out of\n",
      "stop pos: 8\n",
      "word array length: 10\n",
      "Searching for: if i can't let it go out of\n",
      "0.0\n",
      "No matching tracks for: if i can't let it go out of\n",
      "Failed. Now will try: if i can't let it go out\n",
      "stop pos: 7\n",
      "word array length: 10\n",
      "Searching for: if i can't let it go out\n",
      "0.0\n",
      "No matching tracks for: if i can't let it go out\n",
      "Failed. Now will try: if i can't let it go\n",
      "stop pos: 6\n",
      "word array length: 10\n",
      "Searching for: if i can't let it go\n",
      "0.0\n",
      "No matching tracks for: if i can't let it go\n",
      "Failed. Now will try: if i can't let it\n",
      "stop pos: 5\n",
      "word array length: 10\n",
      "Searching for: if i can't let it\n",
      "0.0\n",
      "No matching tracks for: if i can't let it\n",
      "Failed. Now will try: if i can't let\n",
      "stop pos: 4\n",
      "word array length: 10\n",
      "Searching for: if i can't let\n",
      "0.0\n",
      "No matching tracks for: if i can't let\n",
      "Failed. Now will try: if i can't\n",
      "stop pos: 3\n",
      "word array length: 10\n",
      "Searching for: if i can't\n",
      "0.0\n",
      "Found track: if i can't\n",
      "stop pos: 7\n",
      "word array length: 7\n",
      "Searching for: let it go out of my mind\n",
      "0.0\n",
      "No matching tracks for: let it go out of my mind\n",
      "Failed. Now will try: let it go out of my\n",
      "stop pos: 6\n",
      "word array length: 7\n",
      "Searching for: let it go out of my\n",
      "0.0\n",
      "No matching tracks for: let it go out of my\n",
      "Failed. Now will try: let it go out of\n",
      "stop pos: 5\n",
      "word array length: 7\n",
      "Searching for: let it go out of\n",
      "0.0\n",
      "Must reiterate with new offset: 50\n",
      "0\n",
      "50\n",
      "1.0\n",
      "No matching tracks for: let it go out of\n",
      "Failed. Now will try: let it go out\n",
      "stop pos: 4\n",
      "word array length: 7\n",
      "Searching for: let it go out\n",
      "0.0\n",
      "Found track: let it go out\n",
      "stop pos: 3\n",
      "word array length: 3\n",
      "Searching for: of my mind\n",
      "0.0\n",
      "Found track: of my mind\n",
      "Empty array\n"
     ]
    }
   ],
   "source": [
    "playlist=[]\n",
    "left_chunker(word_array,stop_pos)"
   ]
  },
  {
   "cell_type": "code",
   "execution_count": 23,
   "metadata": {},
   "outputs": [
    {
     "data": {
      "text/plain": [
       "[['https://open.spotify.com/track/3kjM8gz2n7qHBynjWegsD5',\n",
       "  \"if i can't\",\n",
       "  ['if', 'i', \"can't\", 'let', 'it', 'go', 'out', 'of', 'my', 'mind'],\n",
       "  3],\n",
       " ['https://open.spotify.com/track/2Xdx4kI8aqMqEfmGp7OcXk',\n",
       "  'let it go out',\n",
       "  ['let', 'it', 'go', 'out', 'of', 'my', 'mind'],\n",
       "  4],\n",
       " ['https://open.spotify.com/track/5PRdzrncmga9ieUFVrlE41',\n",
       "  'of my mind',\n",
       "  ['of', 'my', 'mind'],\n",
       "  3]]"
      ]
     },
     "execution_count": 23,
     "metadata": {},
     "output_type": "execute_result"
    }
   ],
   "source": [
    "playlist"
   ]
  },
  {
   "cell_type": "code",
   "execution_count": null,
   "metadata": {},
   "outputs": [],
   "source": [
    "\n"
   ]
  },
  {
   "cell_type": "code",
   "execution_count": null,
   "metadata": {},
   "outputs": [],
   "source": []
  }
 ],
 "metadata": {
  "kernelspec": {
   "display_name": "Python 3",
   "language": "python",
   "name": "python3"
  },
  "language_info": {
   "codemirror_mode": {
    "name": "ipython",
    "version": 3
   },
   "file_extension": ".py",
   "mimetype": "text/x-python",
   "name": "python",
   "nbconvert_exporter": "python",
   "pygments_lexer": "ipython3",
   "version": "3.6.4"
  }
 },
 "nbformat": 4,
 "nbformat_minor": 2
}
